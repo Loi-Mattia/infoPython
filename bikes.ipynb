{
  "nbformat": 4,
  "nbformat_minor": 0,
  "metadata": {
    "colab": {
      "name": "bikes.ipynb",
      "provenance": []
    },
    "kernelspec": {
      "name": "python3",
      "display_name": "Python 3"
    },
    "language_info": {
      "name": "python"
    }
  },
  "cells": [
    {
      "cell_type": "code",
      "execution_count": 24,
      "metadata": {
        "colab": {
          "base_uri": "https://localhost:8080/"
        },
        "id": "tun1j-nY3a_D",
        "outputId": "0e877a24-e7ff-4b1a-ae5d-e9ef7b37ad93"
      },
      "outputs": [
        {
          "output_type": "stream",
          "name": "stdout",
          "text": [
            "Requirement already satisfied: squarify in /usr/local/lib/python3.7/dist-packages (0.4.3)\n"
          ]
        }
      ],
      "source": [
        "import pandas as pd\n",
        "import numpy as np\n",
        "import matplotlib.pyplot as plt\n",
        "!pip install squarify\n",
        "import squarify"
      ]
    },
    {
      "cell_type": "code",
      "source": [
        "dfCategories = pd.read_excel(\"https://github.com/wtitze/4E/blob/main/BikeStores.xls?raw=true\", sheet_name=\"categories\")\n",
        "dfCategories"
      ],
      "metadata": {
        "colab": {
          "base_uri": "https://localhost:8080/",
          "height": 269
        },
        "id": "u0FpVz7m3dCS",
        "outputId": "088a6616-92fb-4e3d-8922-4dc2919ca221"
      },
      "execution_count": 4,
      "outputs": [
        {
          "output_type": "execute_result",
          "data": {
            "text/html": [
              "<div>\n",
              "<style scoped>\n",
              "    .dataframe tbody tr th:only-of-type {\n",
              "        vertical-align: middle;\n",
              "    }\n",
              "\n",
              "    .dataframe tbody tr th {\n",
              "        vertical-align: top;\n",
              "    }\n",
              "\n",
              "    .dataframe thead th {\n",
              "        text-align: right;\n",
              "    }\n",
              "</style>\n",
              "<table border=\"1\" class=\"dataframe\">\n",
              "  <thead>\n",
              "    <tr style=\"text-align: right;\">\n",
              "      <th></th>\n",
              "      <th>category_id</th>\n",
              "      <th>category_name</th>\n",
              "    </tr>\n",
              "  </thead>\n",
              "  <tbody>\n",
              "    <tr>\n",
              "      <th>0</th>\n",
              "      <td>1</td>\n",
              "      <td>Children Bicycles</td>\n",
              "    </tr>\n",
              "    <tr>\n",
              "      <th>1</th>\n",
              "      <td>2</td>\n",
              "      <td>Comfort Bicycles</td>\n",
              "    </tr>\n",
              "    <tr>\n",
              "      <th>2</th>\n",
              "      <td>3</td>\n",
              "      <td>Cruisers Bicycles</td>\n",
              "    </tr>\n",
              "    <tr>\n",
              "      <th>3</th>\n",
              "      <td>4</td>\n",
              "      <td>Cyclocross Bicycles</td>\n",
              "    </tr>\n",
              "    <tr>\n",
              "      <th>4</th>\n",
              "      <td>5</td>\n",
              "      <td>Electric Bikes</td>\n",
              "    </tr>\n",
              "    <tr>\n",
              "      <th>5</th>\n",
              "      <td>6</td>\n",
              "      <td>Mountain Bikes</td>\n",
              "    </tr>\n",
              "    <tr>\n",
              "      <th>6</th>\n",
              "      <td>7</td>\n",
              "      <td>Road Bikes</td>\n",
              "    </tr>\n",
              "  </tbody>\n",
              "</table>\n",
              "</div>"
            ],
            "text/plain": [
              "   category_id        category_name\n",
              "0            1    Children Bicycles\n",
              "1            2     Comfort Bicycles\n",
              "2            3    Cruisers Bicycles\n",
              "3            4  Cyclocross Bicycles\n",
              "4            5       Electric Bikes\n",
              "5            6       Mountain Bikes\n",
              "6            7           Road Bikes"
            ]
          },
          "metadata": {},
          "execution_count": 4
        }
      ]
    },
    {
      "cell_type": "code",
      "source": [
        "dfBrands = pd.read_excel(\"https://github.com/wtitze/4E/blob/main/BikeStores.xls?raw=true\", sheet_name=\"brands\")\n",
        "dfBrands"
      ],
      "metadata": {
        "colab": {
          "base_uri": "https://localhost:8080/",
          "height": 332
        },
        "id": "vWuh79W33dL8",
        "outputId": "df478ffa-c3c1-403c-ad6a-2b5c0a909ac7"
      },
      "execution_count": 5,
      "outputs": [
        {
          "output_type": "execute_result",
          "data": {
            "text/html": [
              "<div>\n",
              "<style scoped>\n",
              "    .dataframe tbody tr th:only-of-type {\n",
              "        vertical-align: middle;\n",
              "    }\n",
              "\n",
              "    .dataframe tbody tr th {\n",
              "        vertical-align: top;\n",
              "    }\n",
              "\n",
              "    .dataframe thead th {\n",
              "        text-align: right;\n",
              "    }\n",
              "</style>\n",
              "<table border=\"1\" class=\"dataframe\">\n",
              "  <thead>\n",
              "    <tr style=\"text-align: right;\">\n",
              "      <th></th>\n",
              "      <th>brand_id</th>\n",
              "      <th>brand_name</th>\n",
              "    </tr>\n",
              "  </thead>\n",
              "  <tbody>\n",
              "    <tr>\n",
              "      <th>0</th>\n",
              "      <td>1</td>\n",
              "      <td>Electra</td>\n",
              "    </tr>\n",
              "    <tr>\n",
              "      <th>1</th>\n",
              "      <td>2</td>\n",
              "      <td>Haro</td>\n",
              "    </tr>\n",
              "    <tr>\n",
              "      <th>2</th>\n",
              "      <td>3</td>\n",
              "      <td>Heller</td>\n",
              "    </tr>\n",
              "    <tr>\n",
              "      <th>3</th>\n",
              "      <td>4</td>\n",
              "      <td>Pure Cycles</td>\n",
              "    </tr>\n",
              "    <tr>\n",
              "      <th>4</th>\n",
              "      <td>5</td>\n",
              "      <td>Ritchey</td>\n",
              "    </tr>\n",
              "    <tr>\n",
              "      <th>5</th>\n",
              "      <td>6</td>\n",
              "      <td>Strider</td>\n",
              "    </tr>\n",
              "    <tr>\n",
              "      <th>6</th>\n",
              "      <td>7</td>\n",
              "      <td>Sun Bicycles</td>\n",
              "    </tr>\n",
              "    <tr>\n",
              "      <th>7</th>\n",
              "      <td>8</td>\n",
              "      <td>Surly</td>\n",
              "    </tr>\n",
              "    <tr>\n",
              "      <th>8</th>\n",
              "      <td>9</td>\n",
              "      <td>Trek</td>\n",
              "    </tr>\n",
              "  </tbody>\n",
              "</table>\n",
              "</div>"
            ],
            "text/plain": [
              "   brand_id    brand_name\n",
              "0         1       Electra\n",
              "1         2          Haro\n",
              "2         3        Heller\n",
              "3         4   Pure Cycles\n",
              "4         5       Ritchey\n",
              "5         6       Strider\n",
              "6         7  Sun Bicycles\n",
              "7         8         Surly\n",
              "8         9          Trek"
            ]
          },
          "metadata": {},
          "execution_count": 5
        }
      ]
    },
    {
      "cell_type": "code",
      "source": [
        "dfProducts = pd.read_excel(\"https://github.com/wtitze/4E/blob/main/BikeStores.xls?raw=true\", sheet_name=\"products\")\n",
        "dfProducts"
      ],
      "metadata": {
        "colab": {
          "base_uri": "https://localhost:8080/",
          "height": 424
        },
        "id": "XQlQONay3dUh",
        "outputId": "9360a2c7-da46-401d-9a51-3bfc04ffcd2d"
      },
      "execution_count": 6,
      "outputs": [
        {
          "output_type": "execute_result",
          "data": {
            "text/html": [
              "<div>\n",
              "<style scoped>\n",
              "    .dataframe tbody tr th:only-of-type {\n",
              "        vertical-align: middle;\n",
              "    }\n",
              "\n",
              "    .dataframe tbody tr th {\n",
              "        vertical-align: top;\n",
              "    }\n",
              "\n",
              "    .dataframe thead th {\n",
              "        text-align: right;\n",
              "    }\n",
              "</style>\n",
              "<table border=\"1\" class=\"dataframe\">\n",
              "  <thead>\n",
              "    <tr style=\"text-align: right;\">\n",
              "      <th></th>\n",
              "      <th>product_id</th>\n",
              "      <th>product_name</th>\n",
              "      <th>brand_id</th>\n",
              "      <th>category_id</th>\n",
              "      <th>model_year</th>\n",
              "      <th>list_price</th>\n",
              "    </tr>\n",
              "  </thead>\n",
              "  <tbody>\n",
              "    <tr>\n",
              "      <th>0</th>\n",
              "      <td>1</td>\n",
              "      <td>Trek 820 - 2016</td>\n",
              "      <td>9</td>\n",
              "      <td>6</td>\n",
              "      <td>2016</td>\n",
              "      <td>379.99</td>\n",
              "    </tr>\n",
              "    <tr>\n",
              "      <th>1</th>\n",
              "      <td>2</td>\n",
              "      <td>Ritchey Timberwolf Frameset - 2016</td>\n",
              "      <td>5</td>\n",
              "      <td>6</td>\n",
              "      <td>2016</td>\n",
              "      <td>749.99</td>\n",
              "    </tr>\n",
              "    <tr>\n",
              "      <th>2</th>\n",
              "      <td>3</td>\n",
              "      <td>Surly Wednesday Frameset - 2016</td>\n",
              "      <td>8</td>\n",
              "      <td>6</td>\n",
              "      <td>2016</td>\n",
              "      <td>999.99</td>\n",
              "    </tr>\n",
              "    <tr>\n",
              "      <th>3</th>\n",
              "      <td>4</td>\n",
              "      <td>Trek Fuel EX 8 29 - 2016</td>\n",
              "      <td>9</td>\n",
              "      <td>6</td>\n",
              "      <td>2016</td>\n",
              "      <td>2899.99</td>\n",
              "    </tr>\n",
              "    <tr>\n",
              "      <th>4</th>\n",
              "      <td>5</td>\n",
              "      <td>Heller Shagamaw Frame - 2016</td>\n",
              "      <td>3</td>\n",
              "      <td>6</td>\n",
              "      <td>2016</td>\n",
              "      <td>1320.99</td>\n",
              "    </tr>\n",
              "    <tr>\n",
              "      <th>...</th>\n",
              "      <td>...</td>\n",
              "      <td>...</td>\n",
              "      <td>...</td>\n",
              "      <td>...</td>\n",
              "      <td>...</td>\n",
              "      <td>...</td>\n",
              "    </tr>\n",
              "    <tr>\n",
              "      <th>316</th>\n",
              "      <td>317</td>\n",
              "      <td>Trek Checkpoint ALR 5 - 2019</td>\n",
              "      <td>9</td>\n",
              "      <td>7</td>\n",
              "      <td>2019</td>\n",
              "      <td>1999.99</td>\n",
              "    </tr>\n",
              "    <tr>\n",
              "      <th>317</th>\n",
              "      <td>318</td>\n",
              "      <td>Trek Checkpoint ALR 5 Women's - 2019</td>\n",
              "      <td>9</td>\n",
              "      <td>7</td>\n",
              "      <td>2019</td>\n",
              "      <td>1999.99</td>\n",
              "    </tr>\n",
              "    <tr>\n",
              "      <th>318</th>\n",
              "      <td>319</td>\n",
              "      <td>Trek Checkpoint SL 5 Women's - 2019</td>\n",
              "      <td>9</td>\n",
              "      <td>7</td>\n",
              "      <td>2019</td>\n",
              "      <td>2799.99</td>\n",
              "    </tr>\n",
              "    <tr>\n",
              "      <th>319</th>\n",
              "      <td>320</td>\n",
              "      <td>Trek Checkpoint SL 6 - 2019</td>\n",
              "      <td>9</td>\n",
              "      <td>7</td>\n",
              "      <td>2019</td>\n",
              "      <td>3799.99</td>\n",
              "    </tr>\n",
              "    <tr>\n",
              "      <th>320</th>\n",
              "      <td>321</td>\n",
              "      <td>Trek Checkpoint ALR Frameset - 2019</td>\n",
              "      <td>9</td>\n",
              "      <td>7</td>\n",
              "      <td>2019</td>\n",
              "      <td>3199.99</td>\n",
              "    </tr>\n",
              "  </tbody>\n",
              "</table>\n",
              "<p>321 rows × 6 columns</p>\n",
              "</div>"
            ],
            "text/plain": [
              "     product_id                          product_name  ...  model_year  list_price\n",
              "0             1                       Trek 820 - 2016  ...        2016      379.99\n",
              "1             2    Ritchey Timberwolf Frameset - 2016  ...        2016      749.99\n",
              "2             3       Surly Wednesday Frameset - 2016  ...        2016      999.99\n",
              "3             4              Trek Fuel EX 8 29 - 2016  ...        2016     2899.99\n",
              "4             5          Heller Shagamaw Frame - 2016  ...        2016     1320.99\n",
              "..          ...                                   ...  ...         ...         ...\n",
              "316         317          Trek Checkpoint ALR 5 - 2019  ...        2019     1999.99\n",
              "317         318  Trek Checkpoint ALR 5 Women's - 2019  ...        2019     1999.99\n",
              "318         319   Trek Checkpoint SL 5 Women's - 2019  ...        2019     2799.99\n",
              "319         320           Trek Checkpoint SL 6 - 2019  ...        2019     3799.99\n",
              "320         321   Trek Checkpoint ALR Frameset - 2019  ...        2019     3199.99\n",
              "\n",
              "[321 rows x 6 columns]"
            ]
          },
          "metadata": {},
          "execution_count": 6
        }
      ]
    },
    {
      "cell_type": "code",
      "source": [
        "df2 = pd.merge(dfProducts, dfCategories, how= \"inner\", on=[\"category_id\"])\n",
        "df2"
      ],
      "metadata": {
        "colab": {
          "base_uri": "https://localhost:8080/",
          "height": 424
        },
        "id": "lWCrVJze3dhN",
        "outputId": "fb2d9470-ff64-441e-f8cd-0a0cd8ffc605"
      },
      "execution_count": 7,
      "outputs": [
        {
          "output_type": "execute_result",
          "data": {
            "text/html": [
              "<div>\n",
              "<style scoped>\n",
              "    .dataframe tbody tr th:only-of-type {\n",
              "        vertical-align: middle;\n",
              "    }\n",
              "\n",
              "    .dataframe tbody tr th {\n",
              "        vertical-align: top;\n",
              "    }\n",
              "\n",
              "    .dataframe thead th {\n",
              "        text-align: right;\n",
              "    }\n",
              "</style>\n",
              "<table border=\"1\" class=\"dataframe\">\n",
              "  <thead>\n",
              "    <tr style=\"text-align: right;\">\n",
              "      <th></th>\n",
              "      <th>product_id</th>\n",
              "      <th>product_name</th>\n",
              "      <th>brand_id</th>\n",
              "      <th>category_id</th>\n",
              "      <th>model_year</th>\n",
              "      <th>list_price</th>\n",
              "      <th>category_name</th>\n",
              "    </tr>\n",
              "  </thead>\n",
              "  <tbody>\n",
              "    <tr>\n",
              "      <th>0</th>\n",
              "      <td>1</td>\n",
              "      <td>Trek 820 - 2016</td>\n",
              "      <td>9</td>\n",
              "      <td>6</td>\n",
              "      <td>2016</td>\n",
              "      <td>379.99</td>\n",
              "      <td>Mountain Bikes</td>\n",
              "    </tr>\n",
              "    <tr>\n",
              "      <th>1</th>\n",
              "      <td>2</td>\n",
              "      <td>Ritchey Timberwolf Frameset - 2016</td>\n",
              "      <td>5</td>\n",
              "      <td>6</td>\n",
              "      <td>2016</td>\n",
              "      <td>749.99</td>\n",
              "      <td>Mountain Bikes</td>\n",
              "    </tr>\n",
              "    <tr>\n",
              "      <th>2</th>\n",
              "      <td>3</td>\n",
              "      <td>Surly Wednesday Frameset - 2016</td>\n",
              "      <td>8</td>\n",
              "      <td>6</td>\n",
              "      <td>2016</td>\n",
              "      <td>999.99</td>\n",
              "      <td>Mountain Bikes</td>\n",
              "    </tr>\n",
              "    <tr>\n",
              "      <th>3</th>\n",
              "      <td>4</td>\n",
              "      <td>Trek Fuel EX 8 29 - 2016</td>\n",
              "      <td>9</td>\n",
              "      <td>6</td>\n",
              "      <td>2016</td>\n",
              "      <td>2899.99</td>\n",
              "      <td>Mountain Bikes</td>\n",
              "    </tr>\n",
              "    <tr>\n",
              "      <th>4</th>\n",
              "      <td>5</td>\n",
              "      <td>Heller Shagamaw Frame - 2016</td>\n",
              "      <td>3</td>\n",
              "      <td>6</td>\n",
              "      <td>2016</td>\n",
              "      <td>1320.99</td>\n",
              "      <td>Mountain Bikes</td>\n",
              "    </tr>\n",
              "    <tr>\n",
              "      <th>...</th>\n",
              "      <td>...</td>\n",
              "      <td>...</td>\n",
              "      <td>...</td>\n",
              "      <td>...</td>\n",
              "      <td>...</td>\n",
              "      <td>...</td>\n",
              "      <td>...</td>\n",
              "    </tr>\n",
              "    <tr>\n",
              "      <th>316</th>\n",
              "      <td>317</td>\n",
              "      <td>Trek Checkpoint ALR 5 - 2019</td>\n",
              "      <td>9</td>\n",
              "      <td>7</td>\n",
              "      <td>2019</td>\n",
              "      <td>1999.99</td>\n",
              "      <td>Road Bikes</td>\n",
              "    </tr>\n",
              "    <tr>\n",
              "      <th>317</th>\n",
              "      <td>318</td>\n",
              "      <td>Trek Checkpoint ALR 5 Women's - 2019</td>\n",
              "      <td>9</td>\n",
              "      <td>7</td>\n",
              "      <td>2019</td>\n",
              "      <td>1999.99</td>\n",
              "      <td>Road Bikes</td>\n",
              "    </tr>\n",
              "    <tr>\n",
              "      <th>318</th>\n",
              "      <td>319</td>\n",
              "      <td>Trek Checkpoint SL 5 Women's - 2019</td>\n",
              "      <td>9</td>\n",
              "      <td>7</td>\n",
              "      <td>2019</td>\n",
              "      <td>2799.99</td>\n",
              "      <td>Road Bikes</td>\n",
              "    </tr>\n",
              "    <tr>\n",
              "      <th>319</th>\n",
              "      <td>320</td>\n",
              "      <td>Trek Checkpoint SL 6 - 2019</td>\n",
              "      <td>9</td>\n",
              "      <td>7</td>\n",
              "      <td>2019</td>\n",
              "      <td>3799.99</td>\n",
              "      <td>Road Bikes</td>\n",
              "    </tr>\n",
              "    <tr>\n",
              "      <th>320</th>\n",
              "      <td>321</td>\n",
              "      <td>Trek Checkpoint ALR Frameset - 2019</td>\n",
              "      <td>9</td>\n",
              "      <td>7</td>\n",
              "      <td>2019</td>\n",
              "      <td>3199.99</td>\n",
              "      <td>Road Bikes</td>\n",
              "    </tr>\n",
              "  </tbody>\n",
              "</table>\n",
              "<p>321 rows × 7 columns</p>\n",
              "</div>"
            ],
            "text/plain": [
              "     product_id  ...   category_name\n",
              "0             1  ...  Mountain Bikes\n",
              "1             2  ...  Mountain Bikes\n",
              "2             3  ...  Mountain Bikes\n",
              "3             4  ...  Mountain Bikes\n",
              "4             5  ...  Mountain Bikes\n",
              "..          ...  ...             ...\n",
              "316         317  ...      Road Bikes\n",
              "317         318  ...      Road Bikes\n",
              "318         319  ...      Road Bikes\n",
              "319         320  ...      Road Bikes\n",
              "320         321  ...      Road Bikes\n",
              "\n",
              "[321 rows x 7 columns]"
            ]
          },
          "metadata": {},
          "execution_count": 7
        }
      ]
    },
    {
      "cell_type": "code",
      "source": [
        "dfCatalogoComplessivo= pd.merge(df2, dfBrands, how= \"inner\", on= [\"brand_id\"])\n",
        "dfCatalogoComplessivo[[\"product_name\", \"category_name\", \"brand_name\"]]"
      ],
      "metadata": {
        "colab": {
          "base_uri": "https://localhost:8080/",
          "height": 424
        },
        "id": "ORQYcQss3drH",
        "outputId": "5beb407b-2e97-492d-bd49-94f744a2f969"
      },
      "execution_count": 8,
      "outputs": [
        {
          "output_type": "execute_result",
          "data": {
            "text/html": [
              "<div>\n",
              "<style scoped>\n",
              "    .dataframe tbody tr th:only-of-type {\n",
              "        vertical-align: middle;\n",
              "    }\n",
              "\n",
              "    .dataframe tbody tr th {\n",
              "        vertical-align: top;\n",
              "    }\n",
              "\n",
              "    .dataframe thead th {\n",
              "        text-align: right;\n",
              "    }\n",
              "</style>\n",
              "<table border=\"1\" class=\"dataframe\">\n",
              "  <thead>\n",
              "    <tr style=\"text-align: right;\">\n",
              "      <th></th>\n",
              "      <th>product_name</th>\n",
              "      <th>category_name</th>\n",
              "      <th>brand_name</th>\n",
              "    </tr>\n",
              "  </thead>\n",
              "  <tbody>\n",
              "    <tr>\n",
              "      <th>0</th>\n",
              "      <td>Trek 820 - 2016</td>\n",
              "      <td>Mountain Bikes</td>\n",
              "      <td>Trek</td>\n",
              "    </tr>\n",
              "    <tr>\n",
              "      <th>1</th>\n",
              "      <td>Trek Fuel EX 8 29 - 2016</td>\n",
              "      <td>Mountain Bikes</td>\n",
              "      <td>Trek</td>\n",
              "    </tr>\n",
              "    <tr>\n",
              "      <th>2</th>\n",
              "      <td>Trek Slash 8 27.5 - 2016</td>\n",
              "      <td>Mountain Bikes</td>\n",
              "      <td>Trek</td>\n",
              "    </tr>\n",
              "    <tr>\n",
              "      <th>3</th>\n",
              "      <td>Trek Remedy 29 Carbon Frameset - 2016</td>\n",
              "      <td>Mountain Bikes</td>\n",
              "      <td>Trek</td>\n",
              "    </tr>\n",
              "    <tr>\n",
              "      <th>4</th>\n",
              "      <td>Trek X-Caliber 8 - 2017</td>\n",
              "      <td>Mountain Bikes</td>\n",
              "      <td>Trek</td>\n",
              "    </tr>\n",
              "    <tr>\n",
              "      <th>...</th>\n",
              "      <td>...</td>\n",
              "      <td>...</td>\n",
              "      <td>...</td>\n",
              "    </tr>\n",
              "    <tr>\n",
              "      <th>316</th>\n",
              "      <td>Pure Cycles Western 3-Speed - Women's - 2015/2016</td>\n",
              "      <td>Cruisers Bicycles</td>\n",
              "      <td>Pure Cycles</td>\n",
              "    </tr>\n",
              "    <tr>\n",
              "      <th>317</th>\n",
              "      <td>Pure Cycles William 3-Speed - 2016</td>\n",
              "      <td>Cruisers Bicycles</td>\n",
              "      <td>Pure Cycles</td>\n",
              "    </tr>\n",
              "    <tr>\n",
              "      <th>318</th>\n",
              "      <td>Strider Classic 12 Balance Bike - 2018</td>\n",
              "      <td>Children Bicycles</td>\n",
              "      <td>Strider</td>\n",
              "    </tr>\n",
              "    <tr>\n",
              "      <th>319</th>\n",
              "      <td>Strider Sport 16 - 2018</td>\n",
              "      <td>Children Bicycles</td>\n",
              "      <td>Strider</td>\n",
              "    </tr>\n",
              "    <tr>\n",
              "      <th>320</th>\n",
              "      <td>Strider Strider 20 Sport - 2018</td>\n",
              "      <td>Children Bicycles</td>\n",
              "      <td>Strider</td>\n",
              "    </tr>\n",
              "  </tbody>\n",
              "</table>\n",
              "<p>321 rows × 3 columns</p>\n",
              "</div>"
            ],
            "text/plain": [
              "                                          product_name  ...   brand_name\n",
              "0                                      Trek 820 - 2016  ...         Trek\n",
              "1                             Trek Fuel EX 8 29 - 2016  ...         Trek\n",
              "2                             Trek Slash 8 27.5 - 2016  ...         Trek\n",
              "3                Trek Remedy 29 Carbon Frameset - 2016  ...         Trek\n",
              "4                              Trek X-Caliber 8 - 2017  ...         Trek\n",
              "..                                                 ...  ...          ...\n",
              "316  Pure Cycles Western 3-Speed - Women's - 2015/2016  ...  Pure Cycles\n",
              "317                 Pure Cycles William 3-Speed - 2016  ...  Pure Cycles\n",
              "318             Strider Classic 12 Balance Bike - 2018  ...      Strider\n",
              "319                            Strider Sport 16 - 2018  ...      Strider\n",
              "320                    Strider Strider 20 Sport - 2018  ...      Strider\n",
              "\n",
              "[321 rows x 3 columns]"
            ]
          },
          "metadata": {},
          "execution_count": 8
        }
      ]
    },
    {
      "cell_type": "code",
      "source": [
        "dfCatalogoComplessivo.groupby(\"category_name\").count()[\"product_name\"]"
      ],
      "metadata": {
        "colab": {
          "base_uri": "https://localhost:8080/"
        },
        "id": "e_oYTt_e3d1E",
        "outputId": "54d0532d-8fdb-4dc9-c4eb-dbbb91f83e82"
      },
      "execution_count": 9,
      "outputs": [
        {
          "output_type": "execute_result",
          "data": {
            "text/plain": [
              "category_name\n",
              "Children Bicycles      59\n",
              "Comfort Bicycles       30\n",
              "Cruisers Bicycles      78\n",
              "Cyclocross Bicycles    10\n",
              "Electric Bikes         24\n",
              "Mountain Bikes         60\n",
              "Road Bikes             60\n",
              "Name: product_name, dtype: int64"
            ]
          },
          "metadata": {},
          "execution_count": 9
        }
      ]
    },
    {
      "cell_type": "code",
      "source": [
        "dfCatalogoComplessivo.groupby(\"brand_name\").count()[\"product_name\"]"
      ],
      "metadata": {
        "colab": {
          "base_uri": "https://localhost:8080/"
        },
        "id": "SqJYqDjP3d_y",
        "outputId": "006feadb-d6cb-4a21-dbec-f8f5d2536374"
      },
      "execution_count": 10,
      "outputs": [
        {
          "output_type": "execute_result",
          "data": {
            "text/plain": [
              "brand_name\n",
              "Electra         118\n",
              "Haro             10\n",
              "Heller            3\n",
              "Pure Cycles       3\n",
              "Ritchey           1\n",
              "Strider           3\n",
              "Sun Bicycles     23\n",
              "Surly            25\n",
              "Trek            135\n",
              "Name: product_name, dtype: int64"
            ]
          },
          "metadata": {},
          "execution_count": 10
        }
      ]
    },
    {
      "cell_type": "code",
      "source": [
        "dfCatalogoComplessivo[dfCatalogoComplessivo[\"brand_name\"] == \"Trek\"][\"product_name\"]"
      ],
      "metadata": {
        "colab": {
          "base_uri": "https://localhost:8080/"
        },
        "id": "vkRSNiOS3eaC",
        "outputId": "a8848d18-1bd2-4536-86c1-648fda77b5b3"
      },
      "execution_count": 11,
      "outputs": [
        {
          "output_type": "execute_result",
          "data": {
            "text/plain": [
              "0                            Trek 820 - 2016\n",
              "1                   Trek Fuel EX 8 29 - 2016\n",
              "2                   Trek Slash 8 27.5 - 2016\n",
              "3      Trek Remedy 29 Carbon Frameset - 2016\n",
              "4                    Trek X-Caliber 8 - 2017\n",
              "                       ...                  \n",
              "130             Trek Checkpoint ALR 5 - 2019\n",
              "131     Trek Checkpoint ALR 5 Women's - 2019\n",
              "132      Trek Checkpoint SL 5 Women's - 2019\n",
              "133              Trek Checkpoint SL 6 - 2019\n",
              "134      Trek Checkpoint ALR Frameset - 2019\n",
              "Name: product_name, Length: 135, dtype: object"
            ]
          },
          "metadata": {},
          "execution_count": 11
        }
      ]
    },
    {
      "cell_type": "code",
      "source": [
        "dfCatalogoComplessivo[dfCatalogoComplessivo[\"category_name\"].str.contains(\"Bikes\")][[\"product_name\", \"category_name\"]]\n"
      ],
      "metadata": {
        "colab": {
          "base_uri": "https://localhost:8080/",
          "height": 424
        },
        "id": "88IjPsnz3ecK",
        "outputId": "02484ecb-1182-47e6-d256-10c0a6904b2c"
      },
      "execution_count": 12,
      "outputs": [
        {
          "output_type": "execute_result",
          "data": {
            "text/html": [
              "<div>\n",
              "<style scoped>\n",
              "    .dataframe tbody tr th:only-of-type {\n",
              "        vertical-align: middle;\n",
              "    }\n",
              "\n",
              "    .dataframe tbody tr th {\n",
              "        vertical-align: top;\n",
              "    }\n",
              "\n",
              "    .dataframe thead th {\n",
              "        text-align: right;\n",
              "    }\n",
              "</style>\n",
              "<table border=\"1\" class=\"dataframe\">\n",
              "  <thead>\n",
              "    <tr style=\"text-align: right;\">\n",
              "      <th></th>\n",
              "      <th>product_name</th>\n",
              "      <th>category_name</th>\n",
              "    </tr>\n",
              "  </thead>\n",
              "  <tbody>\n",
              "    <tr>\n",
              "      <th>0</th>\n",
              "      <td>Trek 820 - 2016</td>\n",
              "      <td>Mountain Bikes</td>\n",
              "    </tr>\n",
              "    <tr>\n",
              "      <th>1</th>\n",
              "      <td>Trek Fuel EX 8 29 - 2016</td>\n",
              "      <td>Mountain Bikes</td>\n",
              "    </tr>\n",
              "    <tr>\n",
              "      <th>2</th>\n",
              "      <td>Trek Slash 8 27.5 - 2016</td>\n",
              "      <td>Mountain Bikes</td>\n",
              "    </tr>\n",
              "    <tr>\n",
              "      <th>3</th>\n",
              "      <td>Trek Remedy 29 Carbon Frameset - 2016</td>\n",
              "      <td>Mountain Bikes</td>\n",
              "    </tr>\n",
              "    <tr>\n",
              "      <th>4</th>\n",
              "      <td>Trek X-Caliber 8 - 2017</td>\n",
              "      <td>Mountain Bikes</td>\n",
              "    </tr>\n",
              "    <tr>\n",
              "      <th>...</th>\n",
              "      <td>...</td>\n",
              "      <td>...</td>\n",
              "    </tr>\n",
              "    <tr>\n",
              "      <th>197</th>\n",
              "      <td>Electra Loft Go! 8i - 2018</td>\n",
              "      <td>Electric Bikes</td>\n",
              "    </tr>\n",
              "    <tr>\n",
              "      <th>198</th>\n",
              "      <td>Electra Townie Go! 8i - 2017/2018</td>\n",
              "      <td>Electric Bikes</td>\n",
              "    </tr>\n",
              "    <tr>\n",
              "      <th>199</th>\n",
              "      <td>Electra Townie Go! 8i Ladies' - 2018</td>\n",
              "      <td>Electric Bikes</td>\n",
              "    </tr>\n",
              "    <tr>\n",
              "      <th>200</th>\n",
              "      <td>Electra Townie Commute Go! - 2018</td>\n",
              "      <td>Electric Bikes</td>\n",
              "    </tr>\n",
              "    <tr>\n",
              "      <th>201</th>\n",
              "      <td>Electra Townie Commute Go! Ladies' - 2018</td>\n",
              "      <td>Electric Bikes</td>\n",
              "    </tr>\n",
              "  </tbody>\n",
              "</table>\n",
              "<p>144 rows × 2 columns</p>\n",
              "</div>"
            ],
            "text/plain": [
              "                                  product_name   category_name\n",
              "0                              Trek 820 - 2016  Mountain Bikes\n",
              "1                     Trek Fuel EX 8 29 - 2016  Mountain Bikes\n",
              "2                     Trek Slash 8 27.5 - 2016  Mountain Bikes\n",
              "3        Trek Remedy 29 Carbon Frameset - 2016  Mountain Bikes\n",
              "4                      Trek X-Caliber 8 - 2017  Mountain Bikes\n",
              "..                                         ...             ...\n",
              "197                 Electra Loft Go! 8i - 2018  Electric Bikes\n",
              "198          Electra Townie Go! 8i - 2017/2018  Electric Bikes\n",
              "199       Electra Townie Go! 8i Ladies' - 2018  Electric Bikes\n",
              "200          Electra Townie Commute Go! - 2018  Electric Bikes\n",
              "201  Electra Townie Commute Go! Ladies' - 2018  Electric Bikes\n",
              "\n",
              "[144 rows x 2 columns]"
            ]
          },
          "metadata": {},
          "execution_count": 12
        }
      ]
    },
    {
      "cell_type": "code",
      "source": [
        "df100 = dfCatalogoComplessivo.groupby(\"brand_name\").count()\n",
        "df100[df100[\"product_name\"] > 100][[\"product_name\"]]"
      ],
      "metadata": {
        "colab": {
          "base_uri": "https://localhost:8080/",
          "height": 143
        },
        "id": "7XdF91By3egW",
        "outputId": "bc3e8458-49f8-4355-8981-5176b58f5f02"
      },
      "execution_count": 15,
      "outputs": [
        {
          "output_type": "execute_result",
          "data": {
            "text/html": [
              "<div>\n",
              "<style scoped>\n",
              "    .dataframe tbody tr th:only-of-type {\n",
              "        vertical-align: middle;\n",
              "    }\n",
              "\n",
              "    .dataframe tbody tr th {\n",
              "        vertical-align: top;\n",
              "    }\n",
              "\n",
              "    .dataframe thead th {\n",
              "        text-align: right;\n",
              "    }\n",
              "</style>\n",
              "<table border=\"1\" class=\"dataframe\">\n",
              "  <thead>\n",
              "    <tr style=\"text-align: right;\">\n",
              "      <th></th>\n",
              "      <th>product_name</th>\n",
              "    </tr>\n",
              "    <tr>\n",
              "      <th>brand_name</th>\n",
              "      <th></th>\n",
              "    </tr>\n",
              "  </thead>\n",
              "  <tbody>\n",
              "    <tr>\n",
              "      <th>Electra</th>\n",
              "      <td>118</td>\n",
              "    </tr>\n",
              "    <tr>\n",
              "      <th>Trek</th>\n",
              "      <td>135</td>\n",
              "    </tr>\n",
              "  </tbody>\n",
              "</table>\n",
              "</div>"
            ],
            "text/plain": [
              "            product_name\n",
              "brand_name              \n",
              "Electra              118\n",
              "Trek                 135"
            ]
          },
          "metadata": {},
          "execution_count": 15
        }
      ]
    },
    {
      "cell_type": "code",
      "source": [
        "dfCatalogoComplessivo.groupby(\"model_year\").count()[[\"product_name\"]]"
      ],
      "metadata": {
        "colab": {
          "base_uri": "https://localhost:8080/",
          "height": 206
        },
        "id": "yOxZC8Bt3eiY",
        "outputId": "c48bf39d-3b50-4eb1-e58e-a1fd777a0ccc"
      },
      "execution_count": 16,
      "outputs": [
        {
          "output_type": "execute_result",
          "data": {
            "text/html": [
              "<div>\n",
              "<style scoped>\n",
              "    .dataframe tbody tr th:only-of-type {\n",
              "        vertical-align: middle;\n",
              "    }\n",
              "\n",
              "    .dataframe tbody tr th {\n",
              "        vertical-align: top;\n",
              "    }\n",
              "\n",
              "    .dataframe thead th {\n",
              "        text-align: right;\n",
              "    }\n",
              "</style>\n",
              "<table border=\"1\" class=\"dataframe\">\n",
              "  <thead>\n",
              "    <tr style=\"text-align: right;\">\n",
              "      <th></th>\n",
              "      <th>product_name</th>\n",
              "    </tr>\n",
              "    <tr>\n",
              "      <th>model_year</th>\n",
              "      <th></th>\n",
              "    </tr>\n",
              "  </thead>\n",
              "  <tbody>\n",
              "    <tr>\n",
              "      <th>2016</th>\n",
              "      <td>26</td>\n",
              "    </tr>\n",
              "    <tr>\n",
              "      <th>2017</th>\n",
              "      <td>85</td>\n",
              "    </tr>\n",
              "    <tr>\n",
              "      <th>2018</th>\n",
              "      <td>204</td>\n",
              "    </tr>\n",
              "    <tr>\n",
              "      <th>2019</th>\n",
              "      <td>6</td>\n",
              "    </tr>\n",
              "  </tbody>\n",
              "</table>\n",
              "</div>"
            ],
            "text/plain": [
              "            product_name\n",
              "model_year              \n",
              "2016                  26\n",
              "2017                  85\n",
              "2018                 204\n",
              "2019                   6"
            ]
          },
          "metadata": {},
          "execution_count": 16
        }
      ]
    },
    {
      "cell_type": "code",
      "source": [
        "catGroupbyed= dfCatalogoComplessivo.groupby(\"category_name\").count()[[\"product_name\"]]\n",
        "axX = list(catGroupbyed.index)\n",
        "axY = list(catGroupbyed[\"product_name\"])\n",
        "\n",
        "fig,ax = plt.subplots()\n",
        "fig.set_figwidth(15)\n",
        "fig.set_figheight(10)\n",
        "ax.set_title(\"Num Prodotti Per Categoria\", fontsize=20)\n",
        "ax.set_xlabel(\"Nomi brand\", fontsize=15)\n",
        "ax.set_ylabel(\"Prodotti\", fontsize=15)\n",
        "fig.autofmt_xdate(rotation=90)\n",
        "ax.bar(axX,axY)"
      ],
      "metadata": {
        "colab": {
          "base_uri": "https://localhost:8080/",
          "height": 681
        },
        "id": "fc6ir5E33eks",
        "outputId": "7ba39f96-07aa-414f-ce0a-915c66fc2ec0"
      },
      "execution_count": 19,
      "outputs": [
        {
          "output_type": "execute_result",
          "data": {
            "text/plain": [
              "<BarContainer object of 7 artists>"
            ]
          },
          "metadata": {},
          "execution_count": 19
        },
        {
          "output_type": "display_data",
          "data": {
            "image/png": "[encoded data removed]",
            "text/plain": [
              "<Figure size 1080x720 with 1 Axes>"
            ]
          },
          "metadata": {
            "needs_background": "light"
          }
        }
      ]
    },
    {
      "cell_type": "code",
      "source": [
        "cat2Groupbyed = dfCatalogoComplessivo.groupby(\"brand_name\").count()[[\"product_name\"]]\n",
        "labels = list(cat2Groupbyed.index)\n",
        "sizes = list(cat2Groupbyed[\"product_name\"])\n",
        "\n",
        "fig1, ax1 = plt.subplots(figsize=(12, 12))\n",
        "ax1.pie(sizes, labels=labels, startangle=90, autopct='%1.0f%%')\n",
        "plt.title(\"Prodotti Per brand\", fontsize= 30 )\n",
        "plt.show()"
      ],
      "metadata": {
        "colab": {
          "base_uri": "https://localhost:8080/",
          "height": 712
        },
        "id": "jNPKiUVO3em4",
        "outputId": "e5b30020-fd7f-413e-9663-da9bd29c9cae"
      },
      "execution_count": 21,
      "outputs": [
        {
          "output_type": "display_data",
          "data": {
            "image/png": "[encoded data removed]",
            "text/plain": [
              "<Figure size 864x864 with 1 Axes>"
            ]
          },
          "metadata": {}
        }
      ]
    },
    {
      "cell_type": "code",
      "source": [
        "df100 = dfCatalogoComplessivo.groupby(\"brand_name\").count()\n",
        "df100[df100[\"product_name\"] > 100][[\"product_name\"]]"
      ],
      "metadata": {
        "colab": {
          "base_uri": "https://localhost:8080/",
          "height": 143
        },
        "id": "t09l-u8J3epT",
        "outputId": "7e8f166d-c3e2-4dc9-f78d-39cb638e776a"
      },
      "execution_count": 22,
      "outputs": [
        {
          "output_type": "execute_result",
          "data": {
            "text/html": [
              "<div>\n",
              "<style scoped>\n",
              "    .dataframe tbody tr th:only-of-type {\n",
              "        vertical-align: middle;\n",
              "    }\n",
              "\n",
              "    .dataframe tbody tr th {\n",
              "        vertical-align: top;\n",
              "    }\n",
              "\n",
              "    .dataframe thead th {\n",
              "        text-align: right;\n",
              "    }\n",
              "</style>\n",
              "<table border=\"1\" class=\"dataframe\">\n",
              "  <thead>\n",
              "    <tr style=\"text-align: right;\">\n",
              "      <th></th>\n",
              "      <th>product_name</th>\n",
              "    </tr>\n",
              "    <tr>\n",
              "      <th>brand_name</th>\n",
              "      <th></th>\n",
              "    </tr>\n",
              "  </thead>\n",
              "  <tbody>\n",
              "    <tr>\n",
              "      <th>Electra</th>\n",
              "      <td>118</td>\n",
              "    </tr>\n",
              "    <tr>\n",
              "      <th>Trek</th>\n",
              "      <td>135</td>\n",
              "    </tr>\n",
              "  </tbody>\n",
              "</table>\n",
              "</div>"
            ],
            "text/plain": [
              "            product_name\n",
              "brand_name              \n",
              "Electra              118\n",
              "Trek                 135"
            ]
          },
          "metadata": {},
          "execution_count": 22
        }
      ]
    },
    {
      "cell_type": "code",
      "source": [
        "sizes = list(df100[\"product_name\"])\n",
        "squarify.plot(sizes)\n",
        "plt.show()"
      ],
      "metadata": {
        "colab": {
          "base_uri": "https://localhost:8080/",
          "height": 269
        },
        "id": "tTBU9eFI3erl",
        "outputId": "e5d1ef30-f5db-4a1f-ab9e-e85fb2c229c6"
      },
      "execution_count": 25,
      "outputs": [
        {
          "output_type": "display_data",
          "data": {
            "image/png": "[encoded data removed]",
            "text/plain": [
              "<Figure size 432x288 with 1 Axes>"
            ]
          },
          "metadata": {
            "needs_background": "light"
          }
        }
      ]
    },
    {
      "cell_type": "code",
      "source": [
        ""
      ],
      "metadata": {
        "id": "aFhCyGSA3euB"
      },
      "execution_count": null,
      "outputs": []
    },
    {
      "cell_type": "code",
      "source": [
        ""
      ],
      "metadata": {
        "id": "2UfycV173ewl"
      },
      "execution_count": null,
      "outputs": []
    },
    {
      "cell_type": "code",
      "source": [
        ""
      ],
      "metadata": {
        "id": "tLNHq_ec3eyx"
      },
      "execution_count": null,
      "outputs": []
    },
    {
      "cell_type": "code",
      "source": [
        ""
      ],
      "metadata": {
        "id": "mzPUxLnG3e1F"
      },
      "execution_count": null,
      "outputs": []
    },
    {
      "cell_type": "code",
      "source": [
        ""
      ],
      "metadata": {
        "id": "7eBt_THb3e3h"
      },
      "execution_count": null,
      "outputs": []
    },
    {
      "cell_type": "code",
      "source": [
        ""
      ],
      "metadata": {
        "id": "ufE9RG9H3e6K"
      },
      "execution_count": null,
      "outputs": []
    },
    {
      "cell_type": "code",
      "source": [
        ""
      ],
      "metadata": {
        "id": "8jyqOXuq3e8j"
      },
      "execution_count": null,
      "outputs": []
    },
    {
      "cell_type": "code",
      "source": [
        ""
      ],
      "metadata": {
        "id": "tMwhRBOH3e_F"
      },
      "execution_count": null,
      "outputs": []
    },
    {
      "cell_type": "code",
      "source": [
        ""
      ],
      "metadata": {
        "id": "kXg-PGYP3fBo"
      },
      "execution_count": null,
      "outputs": []
    },
    {
      "cell_type": "code",
      "source": [
        ""
      ],
      "metadata": {
        "id": "KAhqmsV33fEQ"
      },
      "execution_count": null,
      "outputs": []
    },
    {
      "cell_type": "code",
      "source": [
        ""
      ],
      "metadata": {
        "id": "zRP-QxFF3fG4"
      },
      "execution_count": null,
      "outputs": []
    }
  ]
}