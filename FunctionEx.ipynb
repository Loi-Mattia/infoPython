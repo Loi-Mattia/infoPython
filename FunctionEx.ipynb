{
  "nbformat": 4,
  "nbformat_minor": 0,
  "metadata": {
    "colab": {
      "name": "FunctionEx.ipynb",
      "provenance": [],
      "authorship_tag": "ABX9TyNFnzvEXLoKujW+c7m7SHtA",
      "include_colab_link": true
    },
    "kernelspec": {
      "name": "python3",
      "display_name": "Python 3"
    },
    "language_info": {
      "name": "python"
    }
  },
  "cells": [
    {
      "cell_type": "markdown",
      "metadata": {
        "id": "view-in-github",
        "colab_type": "text"
      },
      "source": [
        "<a href=\"https://colab.research.google.com/github/Loi-Mattia/infoPython/blob/main/FunctionEx.ipynb\" target=\"_parent\"><img src=\"https://colab.research.google.com/assets/colab-badge.svg\" alt=\"Open In Colab\"/></a>"
      ]
    },
    {
      "cell_type": "code",
      "metadata": {
        "colab": {
          "base_uri": "https://localhost:8080/"
        },
        "id": "E8VyQdoGCsh-",
        "outputId": "f18b5439-0542-4aa6-fa5e-18bb50ee706d"
      },
      "source": [
        "def sommalista(valori):\n",
        "  return sum(valori)\n",
        "List1 = [int(n) for n in input(\"inserisci numeri: \").split()]\n",
        "print(sommalista(List1))"
      ],
      "execution_count": null,
      "outputs": [
        {
          "output_type": "stream",
          "name": "stdout",
          "text": [
            "inserisci numeri: 1 2 3 4 5 6\n",
            "21\n"
          ]
        }
      ]
    },
    {
      "cell_type": "code",
      "metadata": {
        "colab": {
          "base_uri": "https://localhost:8080/"
        },
        "id": "L5pevZ0aFFfl",
        "outputId": "4fa2e2b3-f456-4d47-9f4d-3981463150f2"
      },
      "source": [
        "def max(n1,n2):\n",
        "  return n1 if n1 > n2 else n2\n",
        "\n",
        "inpn1,inpn2,inpn3=int(input()),int(input()),int(input())\n",
        "\n",
        "print(\"il valore massimo è \"+max(inpn1,max(inpn2,inpn3)))\n"
      ],
      "execution_count": null,
      "outputs": [
        {
          "output_type": "stream",
          "name": "stdout",
          "text": [
            "1\n",
            "2\n",
            "4\n",
            "4\n"
          ]
        }
      ]
    },
    {
      "cell_type": "code",
      "metadata": {
        "colab": {
          "base_uri": "https://localhost:8080/"
        },
        "id": "UAyudJ-_IVNc",
        "outputId": "79d555c9-6048-4185-a4cf-bb238a5a8d70"
      },
      "source": [
        "def sommalista(valori):\n",
        "  return sum(valori)\n",
        "\n",
        "\n",
        "List1 = [int(n) for n in input(\"inserisci numeri: \").split()]\n",
        "List2 = [int(n) for n in input(\"inserisci numeri: \").split()]\n",
        "List3 = [int(n) for n in input(\"inserisci numeri: \").split()]\n",
        "print(max(sommalista(List1),max(sommalista(List2),sommalista(List3))))"
      ],
      "execution_count": null,
      "outputs": [
        {
          "output_type": "stream",
          "name": "stdout",
          "text": [
            "inserisci numeri: 1 2 3 4 5 \n",
            "inserisci numeri: 1 2 3\n",
            "inserisci numeri: 1 2\n",
            "15\n"
          ]
        }
      ]
    },
    {
      "cell_type": "code",
      "metadata": {
        "colab": {
          "base_uri": "https://localhost:8080/"
        },
        "id": "fJcxYj447qRr",
        "outputId": "c4c9c205-0809-4ea7-9653-453bc271e08f"
      },
      "source": [
        "def controlla(num,est1,est2):\n",
        "    return num > est1 and num < est2\n",
        "\n",
        "inpEst1,inpEst2 =int(input(\"inserire il primo estremo: \")),int(input(\"inserire il secondo estremo: \"))\n",
        "ListInp=[int(n) for n in input(\"inserisci i numeri della lista: \").split()]\n",
        "lst=[]\n",
        "counter=0\n",
        "\n",
        "for n in ListInp:\n",
        "  if controlla(n,inpEst1,inpEst2):\n",
        "    counter+=1\n",
        "\n",
        "print(counter)"
      ],
      "execution_count": null,
      "outputs": [
        {
          "output_type": "stream",
          "name": "stdout",
          "text": [
            "inserire il primo estremo: 1\n",
            "inserire il secondo estremo: 10\n",
            "inserisci i numeri della lista: 1 2 3 4 11 12\n",
            "3\n"
          ]
        }
      ]
    },
    {
      "cell_type": "code",
      "metadata": {
        "colab": {
          "base_uri": "https://localhost:8080/"
        },
        "id": "F_5LvaZa7qYM",
        "outputId": "a146c617-319a-4b98-f04f-0daaf1c8bbac"
      },
      "source": [
        "inpEst1,inpEst2 =int(input(\"inserire il primo estremo: \")),int(input(\"inserire il secondo estremo: \"))\n",
        "ListInp=[int(n) for n in input(\"inserisci i numeri della lista: \").split()]\n",
        "lst,lstInRange=[],[]\n",
        "\n",
        "for n in ListInp:\n",
        "  if controlla(n,inpEst1,inpEst2):\n",
        "    lstInRange.append(n)\n",
        "print(lstInRange)\n",
        "\n",
        "\n"
      ],
      "execution_count": null,
      "outputs": [
        {
          "output_type": "stream",
          "name": "stdout",
          "text": [
            "inserire il primo estremo: 1 \n",
            "inserire il secondo estremo: 10\n",
            "inserisci i numeri della lista: 1 2 3 4 5 10 11\n",
            "[2, 3, 4, 5]\n"
          ]
        }
      ]
    },
    {
      "cell_type": "code",
      "metadata": {
        "colab": {
          "base_uri": "https://localhost:8080/"
        },
        "id": "1Hc4mx-pJqDP",
        "outputId": "2672ea73-e6b5-40af-b2cf-3f3f3b88c858"
      },
      "source": [
        "def confrontaListe (lis1,lis2):\n",
        "  return lis1 == lis2\n",
        "\n",
        "ListInp=[int(n) for n in input(\"inserisci i numeri della lista: \").split()]\n",
        "ListInp1 = ListInp[::-1]\n",
        "\n",
        "print(\"La lista è palindroma\" if confrontaListe(ListInp,ListInp1) else \"La lista non è palindroma\")"
      ],
      "execution_count": null,
      "outputs": [
        {
          "output_type": "stream",
          "name": "stdout",
          "text": [
            "inserisci i numeri della lista: 1 2 3 2 1\n",
            "La lista è palindroma\n"
          ]
        }
      ]
    },
    {
      "cell_type": "code",
      "metadata": {
        "colab": {
          "base_uri": "https://localhost:8080/"
        },
        "id": "j9DZnU9BLVaT",
        "outputId": "6cbd1ff0-2918-40df-e919-0ad39f436783"
      },
      "source": [
        "def celsiusToFahrenheit(celsius):\n",
        "  return (celsius * 1.8) + 32\n",
        "\n",
        "ListInp=[int(n) for n in input(\"inserisci le temperature in gradi celsius: \").split()]\n",
        "\n",
        "for n in range(0,len(ListInp)):\n",
        "  ListInp[n]=celsiusToFahrenheit(ListInp[n])\n",
        "\n",
        "print(ListInp)\n"
      ],
      "execution_count": null,
      "outputs": [
        {
          "output_type": "stream",
          "name": "stdout",
          "text": [
            "inserisci le temperature in gradi celsius: 1 2 3 4 5\n",
            "[33.8, 35.6, 37.4, 39.2, 41.0]\n"
          ]
        }
      ]
    },
    {
      "cell_type": "code",
      "metadata": {
        "colab": {
          "base_uri": "https://localhost:8080/"
        },
        "id": "cypGoV0oRFbw",
        "outputId": "f209e151-d2e2-4eba-fded-39a305cf1ac3"
      },
      "source": [
        "def IMC(peso,altezza):\n",
        "  return round(peso/(altezza**2),2)\n",
        "\n",
        "ListNomi=[\"Giorgio\",\"Marco\",\"Luca\",\"Gabriele\"]\n",
        "ListPesi=[55,67,89,70]\n",
        "ListAltezza=[1.70,1.80,1.93,1.75]\n",
        "ListIMC=[]\n",
        "\n",
        "for n in range(0,len(ListPesi)):\n",
        "  ListIMC.append(IMC(ListPesi[n],ListAltezza[n]))\n",
        "  print(ListNomi[n]+\" pesa \"+str(ListPesi[n])+\"kg misura \"+str(ListAltezza[n])+\"m ed ha un IMC di \"+str(ListIMC[n]))\n"
      ],
      "execution_count": null,
      "outputs": [
        {
          "output_type": "stream",
          "name": "stdout",
          "text": [
            "Giorgio pesa 55kg misura 1.7m ed ha un IMC di 19.03\n",
            "Marco pesa 67kg misura 1.8m ed ha un IMC di 20.68\n",
            "Luca pesa 89kg misura 1.93m ed ha un IMC di 23.89\n",
            "Gabriele pesa 70kg misura 1.75m ed ha un IMC di 22.86\n"
          ]
        }
      ]
    },
    {
      "cell_type": "code",
      "metadata": {
        "id": "lQ9rHj3TLdl2",
        "colab": {
          "base_uri": "https://localhost:8080/"
        },
        "outputId": "1eccc750-97a5-4691-bc13-b37ef1aa0f7c"
      },
      "source": [
        "my_list = [3,5,2,11,6,8]\n",
        "list_Even_Numbers = list(filter(lambda varX: varX % 2 == 0,my_list))\n",
        "print(list_Even_Numbers)"
      ],
      "execution_count": null,
      "outputs": [
        {
          "output_type": "stream",
          "name": "stdout",
          "text": [
            "[False, False, True, False, True, True]\n"
          ]
        }
      ]
    }
  ]
}