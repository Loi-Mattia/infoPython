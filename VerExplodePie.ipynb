{
  "nbformat": 4,
  "nbformat_minor": 0,
  "metadata": {
    "colab": {
      "name": "Untitled10.ipynb",
      "provenance": [],
      "authorship_tag": "ABX9TyMuwmKiJ2NTpft+1b+iQ5yv",
      "include_colab_link": true
    },
    "kernelspec": {
      "name": "python3",
      "display_name": "Python 3"
    },
    "language_info": {
      "name": "python"
    }
  },
  "cells": [
    {
      "cell_type": "markdown",
      "metadata": {
        "id": "view-in-github",
        "colab_type": "text"
      },
      "source": [
        "<a href=\"https://colab.research.google.com/github/Loi-Mattia/infoPython/blob/main/VerExplodePie.ipynb\" target=\"_parent\"><img src=\"https://colab.research.google.com/assets/colab-badge.svg\" alt=\"Open In Colab\"/></a>"
      ]
    },
    {
      "cell_type": "code",
      "metadata": {
        "id": "rn5gbB19hlLC"
      },
      "source": [
        "import pymongo\n",
        "import pandas as pd\n",
        "import matplotlib.pyplot as plt\n",
        "import numpy as np\n"
      ],
      "execution_count": null,
      "outputs": []
    },
    {
      "cell_type": "code",
      "metadata": {
        "colab": {
          "base_uri": "https://localhost:8080/",
          "height": 424
        },
        "id": "Pau3kMTPhn1C",
        "outputId": "95202028-154a-4dee-fc1d-08a696ab00e9"
      },
      "source": [
        "df = pd.read_json(\"https://github.com/wtitze/4E/blob/main/comuni_italiani.json?raw=true\")\n",
        "df"
      ],
      "execution_count": null,
      "outputs": [
        {
          "output_type": "execute_result",
          "data": {
            "text/html": [
              "<div>\n",
              "<style scoped>\n",
              "    .dataframe tbody tr th:only-of-type {\n",
              "        vertical-align: middle;\n",
              "    }\n",
              "\n",
              "    .dataframe tbody tr th {\n",
              "        vertical-align: top;\n",
              "    }\n",
              "\n",
              "    .dataframe thead th {\n",
              "        text-align: right;\n",
              "    }\n",
              "</style>\n",
              "<table border=\"1\" class=\"dataframe\">\n",
              "  <thead>\n",
              "    <tr style=\"text-align: right;\">\n",
              "      <th></th>\n",
              "      <th>_id</th>\n",
              "      <th>Denominazione in italiano</th>\n",
              "      <th>Provincia</th>\n",
              "      <th>Denominazione Regione</th>\n",
              "      <th>Ripartizione geografica</th>\n",
              "    </tr>\n",
              "  </thead>\n",
              "  <tbody>\n",
              "    <tr>\n",
              "      <th>0</th>\n",
              "      <td>{'$oid': '619f9ec67727bc651542bb9f'}</td>\n",
              "      <td>Agliè</td>\n",
              "      <td>Torino</td>\n",
              "      <td>Piemonte</td>\n",
              "      <td>Nord-ovest</td>\n",
              "    </tr>\n",
              "    <tr>\n",
              "      <th>1</th>\n",
              "      <td>{'$oid': '619f9ec67727bc651542bba0'}</td>\n",
              "      <td>Airasca</td>\n",
              "      <td>Torino</td>\n",
              "      <td>Piemonte</td>\n",
              "      <td>Nord-ovest</td>\n",
              "    </tr>\n",
              "    <tr>\n",
              "      <th>2</th>\n",
              "      <td>{'$oid': '619f9ec67727bc651542bba1'}</td>\n",
              "      <td>Ala di Stura</td>\n",
              "      <td>Torino</td>\n",
              "      <td>Piemonte</td>\n",
              "      <td>Nord-ovest</td>\n",
              "    </tr>\n",
              "    <tr>\n",
              "      <th>3</th>\n",
              "      <td>{'$oid': '619f9ec67727bc651542bba2'}</td>\n",
              "      <td>Albiano d'Ivrea</td>\n",
              "      <td>Torino</td>\n",
              "      <td>Piemonte</td>\n",
              "      <td>Nord-ovest</td>\n",
              "    </tr>\n",
              "    <tr>\n",
              "      <th>4</th>\n",
              "      <td>{'$oid': '619f9ec67727bc651542bba3'}</td>\n",
              "      <td>Almese</td>\n",
              "      <td>Torino</td>\n",
              "      <td>Piemonte</td>\n",
              "      <td>Nord-ovest</td>\n",
              "    </tr>\n",
              "    <tr>\n",
              "      <th>...</th>\n",
              "      <td>...</td>\n",
              "      <td>...</td>\n",
              "      <td>...</td>\n",
              "      <td>...</td>\n",
              "      <td>...</td>\n",
              "    </tr>\n",
              "    <tr>\n",
              "      <th>7902</th>\n",
              "      <td>{'$oid': '619f9ec67727bc651542da7d'}</td>\n",
              "      <td>Villasor</td>\n",
              "      <td>Sud Sardegna</td>\n",
              "      <td>Sardegna</td>\n",
              "      <td>Isole</td>\n",
              "    </tr>\n",
              "    <tr>\n",
              "      <th>7903</th>\n",
              "      <td>{'$oid': '619f9ec67727bc651542da7e'}</td>\n",
              "      <td>Villaspeciosa</td>\n",
              "      <td>Sud Sardegna</td>\n",
              "      <td>Sardegna</td>\n",
              "      <td>Isole</td>\n",
              "    </tr>\n",
              "    <tr>\n",
              "      <th>7904</th>\n",
              "      <td>{'$oid': '619fa3557727bc651542da80'}</td>\n",
              "      <td>NaN</td>\n",
              "      <td>Torino</td>\n",
              "      <td>Piemonte</td>\n",
              "      <td>Nord-ovest</td>\n",
              "    </tr>\n",
              "    <tr>\n",
              "      <th>7905</th>\n",
              "      <td>{'$oid': '619fa3c57727bc651542da81'}</td>\n",
              "      <td>NaN</td>\n",
              "      <td>Gorizia</td>\n",
              "      <td>Friuli-Venezia Giulia</td>\n",
              "      <td>Nord-est</td>\n",
              "    </tr>\n",
              "    <tr>\n",
              "      <th>7906</th>\n",
              "      <td>{'$oid': '619fa3e77727bc651542da82'}</td>\n",
              "      <td>NaN</td>\n",
              "      <td>Agrigento</td>\n",
              "      <td>Sicilia</td>\n",
              "      <td>Isole</td>\n",
              "    </tr>\n",
              "  </tbody>\n",
              "</table>\n",
              "<p>7907 rows × 5 columns</p>\n",
              "</div>"
            ],
            "text/plain": [
              "                                       _id  ... Ripartizione geografica\n",
              "0     {'$oid': '619f9ec67727bc651542bb9f'}  ...              Nord-ovest\n",
              "1     {'$oid': '619f9ec67727bc651542bba0'}  ...              Nord-ovest\n",
              "2     {'$oid': '619f9ec67727bc651542bba1'}  ...              Nord-ovest\n",
              "3     {'$oid': '619f9ec67727bc651542bba2'}  ...              Nord-ovest\n",
              "4     {'$oid': '619f9ec67727bc651542bba3'}  ...              Nord-ovest\n",
              "...                                    ...  ...                     ...\n",
              "7902  {'$oid': '619f9ec67727bc651542da7d'}  ...                   Isole\n",
              "7903  {'$oid': '619f9ec67727bc651542da7e'}  ...                   Isole\n",
              "7904  {'$oid': '619fa3557727bc651542da80'}  ...              Nord-ovest\n",
              "7905  {'$oid': '619fa3c57727bc651542da81'}  ...                Nord-est\n",
              "7906  {'$oid': '619fa3e77727bc651542da82'}  ...                   Isole\n",
              "\n",
              "[7907 rows x 5 columns]"
            ]
          },
          "metadata": {},
          "execution_count": 74
        }
      ]
    },
    {
      "cell_type": "code",
      "metadata": {
        "id": "LrIjUrJahqDL"
      },
      "source": [
        "df.drop(columns=\"_id\",inplace= True)"
      ],
      "execution_count": null,
      "outputs": []
    },
    {
      "cell_type": "code",
      "metadata": {
        "colab": {
          "base_uri": "https://localhost:8080/",
          "height": 424
        },
        "id": "wq0saCN9hrD5",
        "outputId": "716cf0cb-547f-47b9-f16e-c4a991451202"
      },
      "source": [
        "df.rename(columns={\"Denominazione in italiano\": \"nome\", \"Denominazione Regione\": \"regione\",\"Ripartizione geografica\": \"area\"}, inplace=True)\n",
        "df"
      ],
      "execution_count": null,
      "outputs": [
        {
          "output_type": "execute_result",
          "data": {
            "text/html": [
              "<div>\n",
              "<style scoped>\n",
              "    .dataframe tbody tr th:only-of-type {\n",
              "        vertical-align: middle;\n",
              "    }\n",
              "\n",
              "    .dataframe tbody tr th {\n",
              "        vertical-align: top;\n",
              "    }\n",
              "\n",
              "    .dataframe thead th {\n",
              "        text-align: right;\n",
              "    }\n",
              "</style>\n",
              "<table border=\"1\" class=\"dataframe\">\n",
              "  <thead>\n",
              "    <tr style=\"text-align: right;\">\n",
              "      <th></th>\n",
              "      <th>nome</th>\n",
              "      <th>Provincia</th>\n",
              "      <th>regione</th>\n",
              "      <th>area</th>\n",
              "    </tr>\n",
              "  </thead>\n",
              "  <tbody>\n",
              "    <tr>\n",
              "      <th>0</th>\n",
              "      <td>Agliè</td>\n",
              "      <td>Torino</td>\n",
              "      <td>Piemonte</td>\n",
              "      <td>Nord-ovest</td>\n",
              "    </tr>\n",
              "    <tr>\n",
              "      <th>1</th>\n",
              "      <td>Airasca</td>\n",
              "      <td>Torino</td>\n",
              "      <td>Piemonte</td>\n",
              "      <td>Nord-ovest</td>\n",
              "    </tr>\n",
              "    <tr>\n",
              "      <th>2</th>\n",
              "      <td>Ala di Stura</td>\n",
              "      <td>Torino</td>\n",
              "      <td>Piemonte</td>\n",
              "      <td>Nord-ovest</td>\n",
              "    </tr>\n",
              "    <tr>\n",
              "      <th>3</th>\n",
              "      <td>Albiano d'Ivrea</td>\n",
              "      <td>Torino</td>\n",
              "      <td>Piemonte</td>\n",
              "      <td>Nord-ovest</td>\n",
              "    </tr>\n",
              "    <tr>\n",
              "      <th>4</th>\n",
              "      <td>Almese</td>\n",
              "      <td>Torino</td>\n",
              "      <td>Piemonte</td>\n",
              "      <td>Nord-ovest</td>\n",
              "    </tr>\n",
              "    <tr>\n",
              "      <th>...</th>\n",
              "      <td>...</td>\n",
              "      <td>...</td>\n",
              "      <td>...</td>\n",
              "      <td>...</td>\n",
              "    </tr>\n",
              "    <tr>\n",
              "      <th>7902</th>\n",
              "      <td>Villasor</td>\n",
              "      <td>Sud Sardegna</td>\n",
              "      <td>Sardegna</td>\n",
              "      <td>Isole</td>\n",
              "    </tr>\n",
              "    <tr>\n",
              "      <th>7903</th>\n",
              "      <td>Villaspeciosa</td>\n",
              "      <td>Sud Sardegna</td>\n",
              "      <td>Sardegna</td>\n",
              "      <td>Isole</td>\n",
              "    </tr>\n",
              "    <tr>\n",
              "      <th>7904</th>\n",
              "      <td>NaN</td>\n",
              "      <td>Torino</td>\n",
              "      <td>Piemonte</td>\n",
              "      <td>Nord-ovest</td>\n",
              "    </tr>\n",
              "    <tr>\n",
              "      <th>7905</th>\n",
              "      <td>NaN</td>\n",
              "      <td>Gorizia</td>\n",
              "      <td>Friuli-Venezia Giulia</td>\n",
              "      <td>Nord-est</td>\n",
              "    </tr>\n",
              "    <tr>\n",
              "      <th>7906</th>\n",
              "      <td>NaN</td>\n",
              "      <td>Agrigento</td>\n",
              "      <td>Sicilia</td>\n",
              "      <td>Isole</td>\n",
              "    </tr>\n",
              "  </tbody>\n",
              "</table>\n",
              "<p>7907 rows × 4 columns</p>\n",
              "</div>"
            ],
            "text/plain": [
              "                 nome     Provincia                regione        area\n",
              "0               Agliè        Torino               Piemonte  Nord-ovest\n",
              "1             Airasca        Torino               Piemonte  Nord-ovest\n",
              "2        Ala di Stura        Torino               Piemonte  Nord-ovest\n",
              "3     Albiano d'Ivrea        Torino               Piemonte  Nord-ovest\n",
              "4              Almese        Torino               Piemonte  Nord-ovest\n",
              "...               ...           ...                    ...         ...\n",
              "7902         Villasor  Sud Sardegna               Sardegna       Isole\n",
              "7903    Villaspeciosa  Sud Sardegna               Sardegna       Isole\n",
              "7904              NaN        Torino               Piemonte  Nord-ovest\n",
              "7905              NaN       Gorizia  Friuli-Venezia Giulia    Nord-est\n",
              "7906              NaN     Agrigento                Sicilia       Isole\n",
              "\n",
              "[7907 rows x 4 columns]"
            ]
          },
          "metadata": {},
          "execution_count": 76
        }
      ]
    },
    {
      "cell_type": "code",
      "metadata": {
        "colab": {
          "base_uri": "https://localhost:8080/"
        },
        "id": "sunvt8njwSNE",
        "outputId": "6e0b91e7-1d0d-4e8a-8e78-e02812d18175"
      },
      "source": [
        "if df['nome'].isna().sum() > 0:\n",
        "  print(\"ci sono {} comuni senza nome\".format(df['nome'].isna().sum()))\n",
        "  df.dropna(subset=['nome'],inplace= True)\n",
        "else:\n",
        "  print(\"Tutti i comuni hanno un nome\")"
      ],
      "execution_count": null,
      "outputs": [
        {
          "output_type": "stream",
          "name": "stdout",
          "text": [
            "ci sono 3 comuni senza nome\n"
          ]
        }
      ]
    },
    {
      "cell_type": "code",
      "metadata": {
        "colab": {
          "base_uri": "https://localhost:8080/",
          "height": 206
        },
        "id": "NRaOwKAMhtOy",
        "outputId": "b4252301-3395-4a1f-f314-fed390b81ac4"
      },
      "source": [
        "df1 = df.copy()\n",
        "df1 = df1.groupby('area').size().reset_index(name=\"counts\").drop_duplicates()\n",
        "df1"
      ],
      "execution_count": null,
      "outputs": [
        {
          "output_type": "execute_result",
          "data": {
            "text/html": [
              "<div>\n",
              "<style scoped>\n",
              "    .dataframe tbody tr th:only-of-type {\n",
              "        vertical-align: middle;\n",
              "    }\n",
              "\n",
              "    .dataframe tbody tr th {\n",
              "        vertical-align: top;\n",
              "    }\n",
              "\n",
              "    .dataframe thead th {\n",
              "        text-align: right;\n",
              "    }\n",
              "</style>\n",
              "<table border=\"1\" class=\"dataframe\">\n",
              "  <thead>\n",
              "    <tr style=\"text-align: right;\">\n",
              "      <th></th>\n",
              "      <th>area</th>\n",
              "      <th>counts</th>\n",
              "    </tr>\n",
              "  </thead>\n",
              "  <tbody>\n",
              "    <tr>\n",
              "      <th>0</th>\n",
              "      <td>Centro</td>\n",
              "      <td>968</td>\n",
              "    </tr>\n",
              "    <tr>\n",
              "      <th>1</th>\n",
              "      <td>Isole</td>\n",
              "      <td>768</td>\n",
              "    </tr>\n",
              "    <tr>\n",
              "      <th>2</th>\n",
              "      <td>Nord-est</td>\n",
              "      <td>1390</td>\n",
              "    </tr>\n",
              "    <tr>\n",
              "      <th>3</th>\n",
              "      <td>Nord-ovest</td>\n",
              "      <td>2995</td>\n",
              "    </tr>\n",
              "    <tr>\n",
              "      <th>4</th>\n",
              "      <td>Sud</td>\n",
              "      <td>1783</td>\n",
              "    </tr>\n",
              "  </tbody>\n",
              "</table>\n",
              "</div>"
            ],
            "text/plain": [
              "         area  counts\n",
              "0      Centro     968\n",
              "1       Isole     768\n",
              "2    Nord-est    1390\n",
              "3  Nord-ovest    2995\n",
              "4         Sud    1783"
            ]
          },
          "metadata": {},
          "execution_count": 78
        }
      ]
    },
    {
      "cell_type": "code",
      "metadata": {
        "colab": {
          "base_uri": "https://localhost:8080/"
        },
        "id": "zIRB3qwvloHC",
        "outputId": "8290a41b-b189-493a-c8fd-f86363eccbf0"
      },
      "source": [
        "df1.counts"
      ],
      "execution_count": null,
      "outputs": [
        {
          "output_type": "execute_result",
          "data": {
            "text/plain": [
              "0     968\n",
              "1     768\n",
              "2    1390\n",
              "3    2995\n",
              "4    1783\n",
              "Name: counts, dtype: int64"
            ]
          },
          "metadata": {},
          "execution_count": 79
        }
      ]
    },
    {
      "cell_type": "code",
      "metadata": {
        "colab": {
          "base_uri": "https://localhost:8080/",
          "height": 1000
        },
        "id": "xoekAe_VkaZ7",
        "outputId": "47dd2c85-718c-439a-ae2b-d4bc8ca4405f"
      },
      "source": [
        "fig,ax = plt.subplots(figsize=(20,20))\n",
        "ax.pie(df1[\"counts\"], autopct=lambda p:f'{p*sum(df1.counts)/100 :.0f} ({p:.2f}%)',labels=df1[\"area\"],shadow=True)\n",
        "plt.show()"
      ],
      "execution_count": null,
      "outputs": [
        {
          "output_type": "display_data",
          "data": {
            "image/png": "[encoded data removed]",
            "text/plain": [
              "<Figure size 1440x1440 with 1 Axes>"
            ]
          },
          "metadata": {}
        }
      ]
    },
    {
      "cell_type": "code",
      "metadata": {
        "colab": {
          "base_uri": "https://localhost:8080/",
          "height": 708
        },
        "id": "0Qt6zGmWm7QC",
        "outputId": "07497eda-f3c4-4a2c-fe44-4eeac9303e83"
      },
      "source": [
        "df2 = df.copy().drop_duplicates(\"Provincia\")\n",
        "df2=df2.groupby(\"regione\").count()[\"nome\"].reset_index().rename(columns={\"name\":\"totale\"}).set_index(\"regione\")\n",
        "df2"
      ],
      "execution_count": null,
      "outputs": [
        {
          "output_type": "execute_result",
          "data": {
            "text/html": [
              "<div>\n",
              "<style scoped>\n",
              "    .dataframe tbody tr th:only-of-type {\n",
              "        vertical-align: middle;\n",
              "    }\n",
              "\n",
              "    .dataframe tbody tr th {\n",
              "        vertical-align: top;\n",
              "    }\n",
              "\n",
              "    .dataframe thead th {\n",
              "        text-align: right;\n",
              "    }\n",
              "</style>\n",
              "<table border=\"1\" class=\"dataframe\">\n",
              "  <thead>\n",
              "    <tr style=\"text-align: right;\">\n",
              "      <th></th>\n",
              "      <th>nome</th>\n",
              "    </tr>\n",
              "    <tr>\n",
              "      <th>regione</th>\n",
              "      <th></th>\n",
              "    </tr>\n",
              "  </thead>\n",
              "  <tbody>\n",
              "    <tr>\n",
              "      <th>Abruzzo</th>\n",
              "      <td>4</td>\n",
              "    </tr>\n",
              "    <tr>\n",
              "      <th>Basilicata</th>\n",
              "      <td>2</td>\n",
              "    </tr>\n",
              "    <tr>\n",
              "      <th>Calabria</th>\n",
              "      <td>5</td>\n",
              "    </tr>\n",
              "    <tr>\n",
              "      <th>Campania</th>\n",
              "      <td>5</td>\n",
              "    </tr>\n",
              "    <tr>\n",
              "      <th>Emilia-Romagna</th>\n",
              "      <td>9</td>\n",
              "    </tr>\n",
              "    <tr>\n",
              "      <th>Friuli-Venezia Giulia</th>\n",
              "      <td>4</td>\n",
              "    </tr>\n",
              "    <tr>\n",
              "      <th>Lazio</th>\n",
              "      <td>5</td>\n",
              "    </tr>\n",
              "    <tr>\n",
              "      <th>Liguria</th>\n",
              "      <td>4</td>\n",
              "    </tr>\n",
              "    <tr>\n",
              "      <th>Lombardia</th>\n",
              "      <td>12</td>\n",
              "    </tr>\n",
              "    <tr>\n",
              "      <th>Marche</th>\n",
              "      <td>5</td>\n",
              "    </tr>\n",
              "    <tr>\n",
              "      <th>Molise</th>\n",
              "      <td>2</td>\n",
              "    </tr>\n",
              "    <tr>\n",
              "      <th>Piemonte</th>\n",
              "      <td>8</td>\n",
              "    </tr>\n",
              "    <tr>\n",
              "      <th>Puglia</th>\n",
              "      <td>6</td>\n",
              "    </tr>\n",
              "    <tr>\n",
              "      <th>Sardegna</th>\n",
              "      <td>5</td>\n",
              "    </tr>\n",
              "    <tr>\n",
              "      <th>Sicilia</th>\n",
              "      <td>9</td>\n",
              "    </tr>\n",
              "    <tr>\n",
              "      <th>Toscana</th>\n",
              "      <td>10</td>\n",
              "    </tr>\n",
              "    <tr>\n",
              "      <th>Trentino-Alto Adige/Südtirol</th>\n",
              "      <td>2</td>\n",
              "    </tr>\n",
              "    <tr>\n",
              "      <th>Umbria</th>\n",
              "      <td>2</td>\n",
              "    </tr>\n",
              "    <tr>\n",
              "      <th>Valle d'Aosta/Vallée d'Aoste</th>\n",
              "      <td>1</td>\n",
              "    </tr>\n",
              "    <tr>\n",
              "      <th>Veneto</th>\n",
              "      <td>7</td>\n",
              "    </tr>\n",
              "  </tbody>\n",
              "</table>\n",
              "</div>"
            ],
            "text/plain": [
              "                              nome\n",
              "regione                           \n",
              "Abruzzo                          4\n",
              "Basilicata                       2\n",
              "Calabria                         5\n",
              "Campania                         5\n",
              "Emilia-Romagna                   9\n",
              "Friuli-Venezia Giulia            4\n",
              "Lazio                            5\n",
              "Liguria                          4\n",
              "Lombardia                       12\n",
              "Marche                           5\n",
              "Molise                           2\n",
              "Piemonte                         8\n",
              "Puglia                           6\n",
              "Sardegna                         5\n",
              "Sicilia                          9\n",
              "Toscana                         10\n",
              "Trentino-Alto Adige/Südtirol     2\n",
              "Umbria                           2\n",
              "Valle d'Aosta/Vallée d'Aoste     1\n",
              "Veneto                           7"
            ]
          },
          "metadata": {},
          "execution_count": 93
        }
      ]
    },
    {
      "cell_type": "code",
      "metadata": {
        "id": "kURdGxo1oi8i"
      },
      "source": [
        "labelsBarH = df2['regione'].value_counts()\n",
        "utentiBarH = labelsBarH.index\n",
        "fig, ax = plt.subplots()\n",
        "ax.barh(utentiBarH,labelsBarH)\n",
        "ax.grid()\n",
        "plt.title(\"c\")"
      ],
      "execution_count": null,
      "outputs": []
    }
  ]
}